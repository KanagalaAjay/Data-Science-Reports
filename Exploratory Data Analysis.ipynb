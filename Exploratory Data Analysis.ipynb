{
 "cells": [
  {
   "cell_type": "markdown",
   "metadata": {},
   "source": [
    "# Estimates of Location "
   ]
  },
  {
   "cell_type": "code",
   "execution_count": null,
   "metadata": {},
   "outputs": [],
   "source": [
    "ages = [1,26,32,38,28,36,40,29,33,28,37,27,31,100]\n",
    "print(\"Mean: \", sum(ages)/len(ages))\n",
    "print(sorted(ages))"
   ]
  },
  {
   "cell_type": "code",
   "execution_count": null,
   "metadata": {},
   "outputs": [],
   "source": [
    "import pandas as pd\n",
    "\n",
    "dataframe = pd.DataFrame()\n",
    "\n",
    "dataframe['Exam'] = ['PYTHON', 'JAVA', 'JAVASCRIPT']\n",
    "dataframe['Score'] = [80, 90, 95]\n",
    "dataframe['Weightage'] = ['40%', '40%', '20%']\n",
    "\n",
    "dataframe"
   ]
  },
  {
   "cell_type": "code",
   "execution_count": null,
   "metadata": {},
   "outputs": [],
   "source": [
    "print(\"Mean: \", ((80+90+95)/3))\n",
    "print(\"Weighted Mean: \", ((0.4 * 80 + 0.4 * 90 + 0.2 * 95) / (0.4 + 0.4 + 0.2)))"
   ]
  },
  {
   "cell_type": "code",
   "execution_count": null,
   "metadata": {},
   "outputs": [],
   "source": [
    "errors = [1,2,3,26,32,38,28,36,40,29,33,28,37,27,31,67,78,92]\n",
    "# Remove the first 3 and the last 3 (n = 3) and do a mean => trimmed mean\n",
    "print(\"Mean: \", sum(errors)/len(errors))"
   ]
  },
  {
   "cell_type": "code",
   "execution_count": null,
   "metadata": {},
   "outputs": [],
   "source": [
    "sorted_ages = sorted(ages)\n",
    "print(sorted_ages)\n",
    "print(\"Length: \", len(ages))\n",
    "print(\"Median: \", (ages[7]+ages[8])/2)"
   ]
  },
  {
   "cell_type": "markdown",
   "metadata": {},
   "source": [
    "# Estimates of Variability"
   ]
  },
  {
   "cell_type": "code",
   "execution_count": null,
   "metadata": {},
   "outputs": [],
   "source": [
    "ages = [24,28,27,25,26,29,30]\n",
    "\n",
    "# deviations are finding out how much the elements deviate from an estimation of location\n",
    "\n",
    "print(\"Mean: \", sum(ages)/len(ages))\n",
    "print(\"Deviations: \", 24-27,28-27,27-27,25-27,26-27,29-27,30-27)"
   ]
  },
  {
   "cell_type": "code",
   "execution_count": null,
   "metadata": {},
   "outputs": [],
   "source": [
    "print(\"Mean absolute deviation: \", (3+1+0+2+1+2+3)/len(ages))"
   ]
  },
  {
   "cell_type": "code",
   "execution_count": null,
   "metadata": {},
   "outputs": [],
   "source": [
    "variance = (9+1+0+2+1+4+9)/(len(ages) - 1)\n",
    "print(\"Variance: \", variance)"
   ]
  },
  {
   "cell_type": "code",
   "execution_count": null,
   "metadata": {},
   "outputs": [],
   "source": [
    "import math  \n",
    "  \n",
    "# print the square root of  0  \n",
    "math.sqrt(variance)"
   ]
  },
  {
   "cell_type": "markdown",
   "metadata": {},
   "source": [
    "#### Median absolute deviation ??"
   ]
  },
  {
   "cell_type": "code",
   "execution_count": null,
   "metadata": {},
   "outputs": [],
   "source": [
    "sorted_ages = sorted(ages)\n",
    "sorted_ages"
   ]
  },
  {
   "cell_type": "code",
   "execution_count": null,
   "metadata": {},
   "outputs": [],
   "source": [
    "print(\"range: \", (30 - 24))"
   ]
  },
  {
   "cell_type": "code",
   "execution_count": null,
   "metadata": {},
   "outputs": [],
   "source": [
    "import numpy as np\n",
    "\n",
    "print(np.percentile(sorted_ages, 0.25), np.percentile(sorted_ages, 0.75))"
   ]
  },
  {
   "cell_type": "code",
   "execution_count": null,
   "metadata": {},
   "outputs": [],
   "source": [
    "x = [1,2,3,4,5,6,7,8,9,10]\n",
    "x25 = np.percentile(x, 25)\n",
    "x75 = np.percentile(x, 75)\n",
    "x99 = np.percentile(x, 99)\n",
    "print(\"25th percentile: \", x25, \"75th percentile: \", x75, \"99th percentile: \", x99)"
   ]
  },
  {
   "cell_type": "code",
   "execution_count": null,
   "metadata": {},
   "outputs": [],
   "source": [
    "print(\"interquartile range: \", (x75 - x25))"
   ]
  },
  {
   "cell_type": "code",
   "execution_count": null,
   "metadata": {},
   "outputs": [],
   "source": [
    "print(sum(x)/len(x))"
   ]
  },
  {
   "cell_type": "code",
   "execution_count": null,
   "metadata": {},
   "outputs": [],
   "source": []
  }
 ],
 "metadata": {
  "kernelspec": {
   "display_name": "Python 3",
   "language": "python",
   "name": "python3"
  },
  "language_info": {
   "codemirror_mode": {
    "name": "ipython",
    "version": 3
   },
   "file_extension": ".py",
   "mimetype": "text/x-python",
   "name": "python",
   "nbconvert_exporter": "python",
   "pygments_lexer": "ipython3",
   "version": "3.6.5"
  }
 },
 "nbformat": 4,
 "nbformat_minor": 2
}
