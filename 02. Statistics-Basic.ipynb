{
 "cells": [
  {
   "cell_type": "markdown",
   "metadata": {},
   "source": [
    "Numberical (discrete, continuous)\n",
    "Discrete: ages of the mass\n",
    "continuous: height of the students\n",
    "\n",
    "Categorical (enum)\n",
    "Planets of the solar system\n",
    "States of India\n",
    "\n",
    "Ordinal (weightage)\n",
    "Rating of a movie in a 5 start scale"
   ]
  },
  {
   "cell_type": "markdown",
   "metadata": {},
   "source": [
    " ### Mean"
   ]
  },
  {
   "cell_type": "markdown",
   "metadata": {},
   "source": [
    "The average of data points"
   ]
  },
  {
   "cell_type": "code",
   "execution_count": 5,
   "metadata": {},
   "outputs": [
    {
     "name": "stdout",
     "output_type": "stream",
     "text": [
      "136 19.428571428571427\n"
     ]
    }
   ],
   "source": [
    "ages = [12,16,42,15,18,17,16]\n",
    "summation = sum(ages)\n",
    "print(summation, summation/len(ages))"
   ]
  },
  {
   "cell_type": "markdown",
   "metadata": {},
   "source": [
    "## Median "
   ]
  },
  {
   "cell_type": "markdown",
   "metadata": {},
   "source": [
    "The mid values"
   ]
  },
  {
   "cell_type": "code",
   "execution_count": 6,
   "metadata": {},
   "outputs": [
    {
     "data": {
      "text/plain": [
       "[12, 15, 16, 16, 17, 18, 42]"
      ]
     },
     "execution_count": 6,
     "metadata": {},
     "output_type": "execute_result"
    }
   ],
   "source": [
    "sorted_ages = sorted(ages)\n",
    "sorted_ages"
   ]
  },
  {
   "cell_type": "code",
   "execution_count": 7,
   "metadata": {},
   "outputs": [],
   "source": [
    "ages.extend([23])"
   ]
  },
  {
   "cell_type": "code",
   "execution_count": 4,
   "metadata": {},
   "outputs": [
    {
     "data": {
      "text/plain": [
       "[12, 15, 16, 16, 17, 18, 23, 42]"
      ]
     },
     "execution_count": 4,
     "metadata": {},
     "output_type": "execute_result"
    }
   ],
   "source": [
    "sorted_ages = sorted(ages)\n",
    "sorted_ages"
   ]
  },
  {
   "cell_type": "markdown",
   "metadata": {},
   "source": [
    "#### Median captures the outliers than the mean. "
   ]
  },
  {
   "cell_type": "markdown",
   "metadata": {},
   "source": [
    "## Mode "
   ]
  },
  {
   "cell_type": "markdown",
   "metadata": {},
   "source": [
    "The most common value"
   ]
  },
  {
   "cell_type": "code",
   "execution_count": 5,
   "metadata": {},
   "outputs": [
    {
     "name": "stdout",
     "output_type": "stream",
     "text": [
      "defaultdict(<class 'int'>, {12: 1, 16: 2, 42: 1, 15: 1, 18: 1, 17: 1, 23: 1})\n"
     ]
    }
   ],
   "source": [
    "from collections import defaultdict\n",
    "\n",
    "number_occurence = defaultdict(int)\n",
    "for number in ages:\n",
    "    number_occurence[number] += 1\n",
    "print(number_occurence)"
   ]
  },
  {
   "cell_type": "markdown",
   "metadata": {},
   "source": [
    "## Variance"
   ]
  },
  {
   "cell_type": "markdown",
   "metadata": {},
   "source": [
    "How is the data spread out?"
   ]
  },
  {
   "cell_type": "code",
   "execution_count": 6,
   "metadata": {},
   "outputs": [
    {
     "name": "stdout",
     "output_type": "stream",
     "text": [
      "159 19.875\n"
     ]
    }
   ],
   "source": [
    "summation = sum(ages)\n",
    "print(summation, summation/len(ages))"
   ]
  },
  {
   "cell_type": "code",
   "execution_count": 7,
   "metadata": {},
   "outputs": [
    {
     "name": "stdout",
     "output_type": "stream",
     "text": [
      "defaultdict(<class 'float'>, {12: -7.875, 16: -3.875, 42: 22.125, 15: -4.875, 18: -1.875, 17: -2.875, 23: 3.125})\n"
     ]
    }
   ],
   "source": [
    "from collections import defaultdict\n",
    "\n",
    "var = defaultdict(float)\n",
    "for number in ages:\n",
    "    var[number] = (number - summation/len(ages))\n",
    "print(var)"
   ]
  },
  {
   "cell_type": "code",
   "execution_count": 9,
   "metadata": {},
   "outputs": [
    {
     "name": "stdout",
     "output_type": "stream",
     "text": [
      "611.859375\n",
      "87.40848214285714\n"
     ]
    }
   ],
   "source": [
    "var_dict = dict(var)\n",
    "sum_of_var = 0\n",
    "for v in var_dict:\n",
    "    sum_of_var += var_dict[v]*var_dict[v]\n",
    "print(sum_of_var)\n",
    "variance = sum_of_var/len(var_dict)\n",
    "print(variance)"
   ]
  },
  {
   "cell_type": "markdown",
   "metadata": {},
   "source": [
    "## Standard Deviation"
   ]
  },
  {
   "cell_type": "markdown",
   "metadata": {},
   "source": [
    "Sqaure-root of variance"
   ]
  },
  {
   "cell_type": "code",
   "execution_count": 11,
   "metadata": {},
   "outputs": [
    {
     "name": "stdout",
     "output_type": "stream",
     "text": [
      "9.349250351918979\n"
     ]
    }
   ],
   "source": [
    "import math\n",
    "std_dev = math.sqrt(variance)\n",
    "print(std_dev)"
   ]
  },
  {
   "cell_type": "markdown",
   "metadata": {},
   "source": [
    "A data point is more outlier than the other if there are more standard deviations (sigmas) from the mean."
   ]
  },
  {
   "cell_type": "markdown",
   "metadata": {},
   "source": [
    "## Introducing numpy"
   ]
  },
  {
   "cell_type": "markdown",
   "metadata": {},
   "source": [
    "data centered around 'a', with a standard deviation of 'b', 'c' data points\n",
    "\n",
    "np.random.normal(a,b,c)"
   ]
  },
  {
   "cell_type": "code",
   "execution_count": 13,
   "metadata": {},
   "outputs": [
    {
     "name": "stdout",
     "output_type": "stream",
     "text": [
      "20.237101269807578\n"
     ]
    }
   ],
   "source": [
    "import numpy as np\n",
    "\n",
    "sample = np.random.normal(20,10,200)\n",
    "print(np.mean(sample))"
   ]
  },
  {
   "cell_type": "code",
   "execution_count": 21,
   "metadata": {},
   "outputs": [
    {
     "data": {
      "image/png": "[encoded data removed]",
      "text/plain": [
       "<Figure size 432x288 with 1 Axes>"
      ]
     },
     "metadata": {},
     "output_type": "display_data"
    }
   ],
   "source": [
    "%matplotlib inline\n",
    "import matplotlib.pyplot as plt\n",
    "plt.hist(sample, 50)\n",
    "plt.show()"
   ]
  },
  {
   "cell_type": "code",
   "execution_count": 22,
   "metadata": {},
   "outputs": [
    {
     "data": {
      "text/plain": [
       "20.72696457130148"
      ]
     },
     "execution_count": 22,
     "metadata": {},
     "output_type": "execute_result"
    }
   ],
   "source": [
    "np.median(sample)"
   ]
  },
  {
   "cell_type": "markdown",
   "metadata": {},
   "source": [
    "### Why outliers have to be given importance?"
   ]
  },
  {
   "cell_type": "code",
   "execution_count": 30,
   "metadata": {},
   "outputs": [
    {
     "name": "stdout",
     "output_type": "stream",
     "text": [
      "<class 'numpy.ndarray'>\n",
      "25.849360856953282\n",
      "20.75063239033188\n"
     ]
    }
   ],
   "source": [
    "sample = np.append(sample, 400)\n",
    "print(type(sample))\n",
    "print(np.mean(sample))\n",
    "print(np.median(sample))"
   ]
  },
  {
   "cell_type": "code",
   "execution_count": 26,
   "metadata": {},
   "outputs": [
    {
     "data": {
      "text/plain": [
       "array([28, 63, 25, 73, 78, 58, 80, 49, 37, 53, 89, 63, 49, 76, 43, 56, 34,\n",
       "       18, 32, 52, 26, 61, 40, 72, 61, 48, 49, 82, 86, 70, 56, 49, 65, 32,\n",
       "       60, 42, 88, 25, 37, 55, 47, 67, 36, 24, 48, 67, 30, 26, 66, 63, 58,\n",
       "       51, 22, 38, 67, 72, 44, 47, 55, 78, 88, 74, 41, 81, 65, 56, 50, 88,\n",
       "       23, 86, 73, 87, 41, 61, 19, 58, 79, 48, 80, 30, 44, 18, 58, 41, 85,\n",
       "       56, 40, 47, 48, 56, 79, 48, 84, 58, 43, 40, 62, 41, 58, 36, 57, 66,\n",
       "       33, 56, 84, 18, 62, 37, 36, 30, 35, 49, 32, 46, 43, 74, 48, 50, 23,\n",
       "       57, 76, 57, 46, 40, 49, 34, 86, 65, 48, 48, 19, 56, 63, 85, 78, 23,\n",
       "       57, 79, 43, 53, 45, 20, 85, 32, 48, 37, 62, 80, 23, 68, 64, 31, 52,\n",
       "       42, 57, 44, 58, 86, 67, 37, 84, 74, 28, 70, 46, 35, 59, 88, 63, 79,\n",
       "       61, 70, 82, 79, 62, 22, 25, 49, 22, 56, 75, 66, 21, 85, 42, 21, 58,\n",
       "       52, 43, 65, 71, 47, 68, 51, 49, 74, 80, 80, 26, 38, 59, 62, 63, 70,\n",
       "       89, 62, 64, 66, 54, 81, 72, 70, 79, 89, 44, 33, 31, 20, 18, 55, 78,\n",
       "       46, 27, 25, 46, 38, 20, 20, 33, 23, 31, 88, 71, 56, 27, 32, 47, 73,\n",
       "       35, 34, 86, 56, 31, 40, 85, 23, 35, 74, 51, 66, 86, 30, 19, 45, 48,\n",
       "       51, 19, 37, 61, 57, 76, 27, 20, 55, 78, 28, 45, 38, 88, 68, 41, 36,\n",
       "       56, 40, 25, 34, 83, 80, 83, 74, 77, 27, 85, 69, 32, 21, 64, 81, 60,\n",
       "       84, 62, 58, 30, 82, 33, 20, 75, 25, 19, 71, 26, 50, 82, 61, 85, 21,\n",
       "       29, 84, 83, 37, 44, 54, 36, 31, 24, 85, 65, 48, 59, 27, 27, 82, 83,\n",
       "       38, 50, 51, 78, 48, 58, 79, 65, 38, 46, 21, 55, 65, 29, 18, 83, 72,\n",
       "       39, 20, 46, 36, 73, 74, 40, 66, 43, 29, 26, 47, 77, 72, 58, 21, 72,\n",
       "       18, 71, 84, 68, 55, 24, 68, 65, 45, 55, 58, 43, 30, 54, 87, 46, 38,\n",
       "       78, 88, 57, 60, 43, 70, 74, 72, 50, 52, 74, 72, 44, 35, 88, 55, 63,\n",
       "       48, 76, 70, 67, 50, 83, 36, 80, 27, 28, 75, 64, 20, 39, 58, 23, 73,\n",
       "       18, 82, 34, 59, 72, 23, 79, 88, 56, 70, 31, 64, 51, 71, 79, 33, 43,\n",
       "       83, 80, 56, 82, 59, 56, 55, 84, 53, 31, 69, 34, 60, 66, 71, 78, 75,\n",
       "       44, 52, 73, 84, 36, 87, 46, 86, 73, 77, 72, 40, 55, 56, 37, 67, 70,\n",
       "       82, 72, 51, 70, 75, 36, 36, 43, 87, 47, 55, 42, 83, 43, 61, 79, 50,\n",
       "       51, 46, 44, 89, 71, 85, 75, 78, 37, 80, 73, 62, 56, 45, 37, 65, 77,\n",
       "       67, 56, 23, 46, 52, 53, 84])"
      ]
     },
     "execution_count": 26,
     "metadata": {},
     "output_type": "execute_result"
    }
   ],
   "source": [
    "ages = np.random.randint(18, high=90, size=500) \n",
    "ages "
   ]
  },
  {
   "cell_type": "code",
   "execution_count": 27,
   "metadata": {},
   "outputs": [
    {
     "data": {
      "text/plain": [
       "54.766"
      ]
     },
     "execution_count": 27,
     "metadata": {},
     "output_type": "execute_result"
    }
   ],
   "source": [
    "np.mean(ages)"
   ]
  },
  {
   "cell_type": "code",
   "execution_count": 28,
   "metadata": {},
   "outputs": [
    {
     "data": {
      "text/plain": [
       "56.0"
      ]
     },
     "execution_count": 28,
     "metadata": {},
     "output_type": "execute_result"
    }
   ],
   "source": [
    "np.median(ages)"
   ]
  },
  {
   "cell_type": "code",
   "execution_count": 29,
   "metadata": {},
   "outputs": [
    {
     "data": {
      "image/png": "[encoded data removed]",
      "text/plain": [
       "<Figure size 432x288 with 1 Axes>"
      ]
     },
     "metadata": {},
     "output_type": "display_data"
    }
   ],
   "source": [
    "plt.hist(ages, 50)\n",
    "plt.show()"
   ]
  },
  {
   "cell_type": "code",
   "execution_count": 31,
   "metadata": {},
   "outputs": [
    {
     "data": {
      "text/plain": [
       "ModeResult(mode=array([56]), count=array([17]))"
      ]
     },
     "execution_count": 31,
     "metadata": {},
     "output_type": "execute_result"
    }
   ],
   "source": [
    "from scipy import stats \n",
    "stats.mode(ages)"
   ]
  },
  {
   "cell_type": "markdown",
   "metadata": {},
   "source": [
    "## Population variance & Sample variance"
   ]
  },
  {
   "cell_type": "code",
   "execution_count": 32,
   "metadata": {},
   "outputs": [
    {
     "data": {
      "text/plain": [
       "401.835244"
      ]
     },
     "execution_count": 32,
     "metadata": {},
     "output_type": "execute_result"
    }
   ],
   "source": [
    "ages.var()"
   ]
  },
  {
   "cell_type": "code",
   "execution_count": 33,
   "metadata": {},
   "outputs": [
    {
     "data": {
      "text/plain": [
       "20.045828593500445"
      ]
     },
     "execution_count": 33,
     "metadata": {},
     "output_type": "execute_result"
    }
   ],
   "source": [
    "ages.std()"
   ]
  },
  {
   "cell_type": "code",
   "execution_count": null,
   "metadata": {},
   "outputs": [],
   "source": []
  }
 ],
 "metadata": {
  "kernelspec": {
   "display_name": "Python 3",
   "language": "python",
   "name": "python3"
  },
  "language_info": {
   "codemirror_mode": {
    "name": "ipython",
    "version": 3
   },
   "file_extension": ".py",
   "mimetype": "text/x-python",
   "name": "python",
   "nbconvert_exporter": "python",
   "pygments_lexer": "ipython3",
   "version": "3.6.5"
  }
 },
 "nbformat": 4,
 "nbformat_minor": 2
}
