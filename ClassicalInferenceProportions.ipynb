{
 "cells": [
  {
   "cell_type": "markdown",
   "metadata": {},
   "source": [
    "# Sample Proportions\n",
    "\n",
    "Binomial distributions\n",
    "\n",
    "$$\\hat{p} = \\frac{M}{N}$$\n",
    "\n",
    "In fact, if your data $x_i$ is 1 for every \"success\" and 0 for every \"failure\", then we can say:\n",
    "\n",
    "$$\\hat{p} = \\frac{1}{N} \\sum_{i = 1}^{N} x_i = \\bar{x}$$\n",
    "\n",
    "That is, the sample proportion is the sample mean of the dataset.\n",
    "\n",
    "# Confidence Interval for the Population Proportion\n",
    "\n",
    "We have an interval with a lower and upper bound and we believe that the true population proportion is within this interval with some level of confidence. For a 95% confidence interval, we are \"95% confident\" the true proportion is in the interval (in the sense that such intervals contain the population proportion 95% of the time).\n",
    "\n",
    "In a certain website, out of 1126 visitors on a given day, 310 clicked on an ad."
   ]
  },
  {
   "cell_type": "code",
   "execution_count": 1,
   "metadata": {},
   "outputs": [],
   "source": [
    "import statsmodels.api as sm"
   ]
  },
  {
   "cell_type": "code",
   "execution_count": 2,
   "metadata": {},
   "outputs": [
    {
     "data": {
      "text/plain": [
       "0.2753108348134991"
      ]
     },
     "execution_count": 2,
     "metadata": {},
     "output_type": "execute_result"
    }
   ],
   "source": [
    "310 / 1126    # Sample proportion"
   ]
  },
  {
   "cell_type": "code",
   "execution_count": 3,
   "metadata": {},
   "outputs": [
    {
     "data": {
      "text/plain": [
       "(0.24922129423231776, 0.30140037539468045)"
      ]
     },
     "execution_count": 3,
     "metadata": {},
     "output_type": "execute_result"
    }
   ],
   "source": [
    "from statsmodels.stats.proportion import proportion_confint    # Function for computing confidence intervals\n",
    "proportion_confint(count=310,    # Number of \"successes\"\n",
    "                   nobs=1126,    # Number of trials\n",
    "                   alpha=(1 - 0.95))    # Alpha, which is 1 minus the confidence level"
   ]
  },
  {
   "cell_type": "markdown",
   "metadata": {},
   "source": [
    "If we wanted a 99% confidence interval, we would have a wider interval, but more confidence that the true proportion lies in this interval."
   ]
  },
  {
   "cell_type": "code",
   "execution_count": 4,
   "metadata": {},
   "outputs": [
    {
     "data": {
      "text/plain": [
       "(0.24102336643386685, 0.30959830319313136)"
      ]
     },
     "execution_count": 4,
     "metadata": {},
     "output_type": "execute_result"
    }
   ],
   "source": [
    "proportion_confint(310, 1126, alpha=(1 - 0.99))"
   ]
  },
  {
   "cell_type": "markdown",
   "metadata": {},
   "source": [
    "## Lets Test the Proportion\n",
    "\n",
    "We will do a **statistical test** to test the administrator's claim. We test the **null hypothesis**:\n",
    "i\n",
    "$$H_0: p = 0.3$$\n",
    "\n",
    "(30% of the people visiting the website click the ad)\n",
    "\n",
    "(where $p$ denotes the true proportion of visitors who click the ad on the site) against the **alternative hypothesis**:\n",
    "\n",
    "$$H_A: p \\neq 0.3$$\n",
    "\n",
    "Compare against the p-value. If we see a $p$-value greater than 0.05, we will not reject the null hypothesis."
   ]
  },
  {
   "cell_type": "code",
   "execution_count": 5,
   "metadata": {},
   "outputs": [
    {
     "data": {
      "text/plain": [
       "(-1.8547614674673856, 0.06363029677684083)"
      ]
     },
     "execution_count": 5,
     "metadata": {},
     "output_type": "execute_result"
    }
   ],
   "source": [
    "from statsmodels.stats.proportion import proportions_ztest    # Performs the test just described\n",
    "\n",
    "res = proportions_ztest(count=310,\n",
    "                        nobs=1126,\n",
    "                        value=0.3,    # The hypothesized value of population proportion p\n",
    "                        alternative='two-sided')\n",
    "\n",
    "res    # A tuple; the first entry is the value of the test statistic, and the second is the p-value"
   ]
  },
  {
   "cell_type": "markdown",
   "metadata": {},
   "source": [
    "Here, we got a test statistic of $z \\approx -1.85$ and a $p$-value of $\\approx 0.0636 > 0.05$. We conclude there is not enough statistical evidence to disagree with the website administrator."
   ]
  },
  {
   "cell_type": "markdown",
   "metadata": {},
   "source": [
    "## Now Common Proportions\n",
    "\n",
    "Two different versions of an advertisement, Version A and Version B. Lets track how often Version A was clicked and how often Version B was clicked.\n",
    "\n",
    "On a given day, 516 visitors saw Version A of the ad, and 510 saw Version B. Of those who saw Version A, 108 clicked the ad, while 144 clicked Version B when shown.\n",
    "\n",
    "Which ad generates more clicks?\n",
    "\n",
    "Here we test the following hypotheses:\n",
    "\n",
    "$$H_0: p_A = p_B$$\n",
    "$$H_A: p_A \\neq p_B$$\n",
    "\n",
    "perform `proportions_ztest()`"
   ]
  },
  {
   "cell_type": "code",
   "execution_count": 6,
   "metadata": {},
   "outputs": [],
   "source": [
    "import numpy as np"
   ]
  },
  {
   "cell_type": "code",
   "execution_count": 7,
   "metadata": {},
   "outputs": [
    {
     "data": {
      "text/plain": [
       "array([108, 144])"
      ]
     },
     "execution_count": 7,
     "metadata": {},
     "output_type": "execute_result"
    }
   ],
   "source": [
    "np.array([108, 144])"
   ]
  },
  {
   "cell_type": "code",
   "execution_count": 8,
   "metadata": {},
   "outputs": [
    {
     "data": {
      "text/plain": [
       "(-2.7179204953199174, 0.0065693621488401655)"
      ]
     },
     "execution_count": 8,
     "metadata": {},
     "output_type": "execute_result"
    }
   ],
   "source": [
    "proportions_ztest(count=np.array([108, 144]),\n",
    "                  nobs=np.array([516, 510]),\n",
    "                  alternative='two-sided')"
   ]
  },
  {
   "cell_type": "markdown",
   "metadata": {},
   "source": [
    "With a p-value of about 0.0066, which is small, we reject the null hypothesis; it appears that the two ads do not have the same proportion of clicks."
   ]
  },
  {
   "cell_type": "markdown",
   "metadata": {},
   "source": [
    "## $\\chi^2$ or the Test for Goodness of Fit\n",
    "\n",
    "The **$\\chi^2$ test for goodness of fit** generalizes the test for a population proportion => checks whether a variable that could fall in some category has some distribution.\n",
    "\n",
    "Suppose a website offers five colors of shoes: blue, black, brown, white, and red. We want to know whether each color is equally likely or not. That is, if $p_{\\text{color}}$ is the proportion of shoe buyers who bought a particular color, we wish to test:\n",
    "\n",
    "$$H_0: p_{\\text{blue}} = p_{\\text{black}} = p_{\\text{brown}} = p_{\\text{white}} = p_{\\text{red}}$$\n",
    "$$H_A: H_0 \\text{ is false}$$\n",
    "\n",
    "Suppose that out of 464 buyers of shoes, 98 bought blue shoes, 117 bought black shoes, 80 bought brown shoes, 73 bought white shoes, and 96 bought red shoes. If each shoe is equally likely to be bought, then $p_{\\text{color}} = 0.2$ for every color. We would expect to see $0.2 \\times 464 = 92.8$ pairs of each color sold if this were true."
   ]
  },
  {
   "cell_type": "code",
   "execution_count": 9,
   "metadata": {},
   "outputs": [],
   "source": [
    "from scipy.stats import chisquare"
   ]
  },
  {
   "cell_type": "code",
   "execution_count": 10,
   "metadata": {},
   "outputs": [
    {
     "data": {
      "text/plain": [
       "Power_divergenceResult(statistic=12.70258620689655, pvalue=0.012824256359695625)"
      ]
     },
     "execution_count": 10,
     "metadata": {},
     "output_type": "execute_result"
    }
   ],
   "source": [
    "chisquare(f_obs=[98, 117, 80, 73, 96],    # Observed frequency for each color\n",
    "          f_exp=[464 * .2, 464 * .2, 464 * .2, 464 * .2, 464 * .2])    # Expected frequency under the null hypothesis"
   ]
  },
  {
   "cell_type": "markdown",
   "metadata": {},
   "source": [
    "The p-value is approximately 0.0128. This is small, and suggests that the null hypothesis is false. It's likely that some shoe colors are more popular than others (black is a prime suspect)."
   ]
  }
 ],
 "metadata": {
  "kernelspec": {
   "display_name": "Python 3",
   "language": "python",
   "name": "python3"
  },
  "language_info": {
   "codemirror_mode": {
    "name": "ipython",
    "version": 3
   },
   "file_extension": ".py",
   "mimetype": "text/x-python",
   "name": "python",
   "nbconvert_exporter": "python",
   "pygments_lexer": "ipython3",
   "version": "3.6.5"
  }
 },
 "nbformat": 4,
 "nbformat_minor": 2
}
