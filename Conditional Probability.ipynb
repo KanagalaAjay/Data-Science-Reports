{
 "cells": [
  {
   "cell_type": "code",
   "execution_count": 3,
   "metadata": {},
   "outputs": [],
   "source": [
    "# A - getting a head when a coin is tossed\n",
    "P(A) = 1/2 = 0.5\n",
    "\n",
    "P(E,F) = P(E) * P(F) # E, F - independent events\n",
    "\n",
    "P(E | F) = P(E,F) / P(F) # not necessarily independent"
   ]
  },
  {
   "cell_type": "code",
   "execution_count": 2,
   "metadata": {},
   "outputs": [
    {
     "name": "stdout",
     "output_type": "stream",
     "text": [
      "0.7499999999999999\n"
     ]
    }
   ],
   "source": [
    "# A - passing first test\n",
    "# B - passing second test\n",
    "\n",
    "PA = 0.8 #80% passed in test A\n",
    "PBA = 0.6 #60% passed in both tests A & B\n",
    "\n",
    "#probability of passing the second test given that you passed the first\n",
    "# P(E | F) = P(E,F) / P(F)\n",
    "# P(B | A) = P(A,B) / P(A)\n",
    "PBgivenA = PBA / PA\n",
    "print(PBgivenA) # 75% of people would pass second after a pass in first\n"
   ]
  },
  {
   "cell_type": "code",
   "execution_count": null,
   "metadata": {},
   "outputs": [],
   "source": [
    "# X - person has a disease (1%)\n",
    "# Y - test showing that the person has a disease (99%)\n",
    "\n",
    "# P(X | Y) = P(X,Y) / P(Y)"
   ]
  },
  {
   "cell_type": "markdown",
   "metadata": {},
   "source": [
    "P(B) = probability of both are girls => 1/4\n",
    "P(G) = probability that the first is a girl child => 1/2\n",
    "P(L) = probability that at least one is a girl child => 3/4\n",
    "\n",
    "---------------------------------------------------------------------------\n",
    "P(B | G) = P(B,G) / P(G)\n",
    "\n",
    "P(B,G) = P(B) => both are girls, so the first one is obviously a girl\n",
    "\n",
    "P(B | G) = P(B,G) / P(G)\n",
    "\n",
    "P(B | G) = P(B)   / P(G) = 2/4 = 1/2 = 0.5\n",
    "\n",
    "---------------------------------------------------------------------------\n",
    "\n",
    "P(B | L) = P(B,L) / P(L)\n",
    "\n",
    "P(B,L) = P(B) => both are girls, so at least one is a girl\n",
    "\n",
    "P(B | L) = P(B) / P(L) => 1/3 => 0.3333334\n",
    "\n",
    "----------------------------------------------------------------------------"
   ]
  },
  {
   "cell_type": "code",
   "execution_count": 16,
   "metadata": {},
   "outputs": [
    {
     "name": "stdout",
     "output_type": "stream",
     "text": [
      "P(B)/P(G):  0.4991415008584991\n",
      "P(B)/P(L):  0.3314553990610329\n"
     ]
    }
   ],
   "source": [
    "import random\n",
    "\n",
    "random.seed(0)\n",
    "\n",
    "def kid():\n",
    "    return random.choice([\"boy\", \"girl\"])\n",
    "\n",
    "bothGirls = 0\n",
    "olderIsAGirl = 0\n",
    "eitherOneIsAGirl = 0\n",
    "\n",
    "for x in range(20000):\n",
    "    younger = kid()\n",
    "    older = kid()\n",
    "    if older == \"girl\":\n",
    "        olderIsAGirl += 1\n",
    "    if older == \"girl\" and younger == \"girl\":\n",
    "        bothGirls += 1\n",
    "    if older == \"girl\" or younger == \"girl\":\n",
    "        eitherOneIsAGirl += 1\n",
    "        \n",
    "print(\"P(B)/P(G): \", (bothGirls / olderIsAGirl))\n",
    "print(\"P(B)/P(L): \", (bothGirls / eitherOneIsAGirl))"
   ]
  },
  {
   "cell_type": "markdown",
   "metadata": {},
   "source": [
    "# Conditional Probability Real-time"
   ]
  },
  {
   "cell_type": "markdown",
   "metadata": {},
   "source": [
    "100,000 random people, randomly assigned ages (20, 30, 40, 50 60, or 70)"
   ]
  },
  {
   "cell_type": "code",
   "execution_count": 17,
   "metadata": {},
   "outputs": [],
   "source": [
    "from numpy import random\n",
    "random.seed(0)\n",
    "\n",
    "totals = {20:0, 30:0, 40:0, 50:0, 60:0, 70:0} #the total number of people in each age group\n",
    "purchases = {20:0, 30:0, 40:0, 50:0, 60:0, 70:0} #the total number of things purchased by people in each age group\n",
    "totalPurchases = 0\n",
    "for _ in range(100000):\n",
    "    ageDecade = random.choice([20, 30, 40, 50, 60, 70])\n",
    "    purchaseProbability = float(ageDecade) / 100.0 #lower probability for young to buy something\n",
    "    totals[ageDecade] += 1\n",
    "    if (random.random() < purchaseProbability): #just a random condition\n",
    "        totalPurchases += 1\n",
    "        purchases[ageDecade] += 1"
   ]
  },
  {
   "cell_type": "code",
   "execution_count": 18,
   "metadata": {},
   "outputs": [
    {
     "data": {
      "text/plain": [
       "{20: 16576, 30: 16619, 40: 16632, 50: 16805, 60: 16664, 70: 16704}"
      ]
     },
     "execution_count": 18,
     "metadata": {},
     "output_type": "execute_result"
    }
   ],
   "source": [
    "totals"
   ]
  },
  {
   "cell_type": "code",
   "execution_count": 19,
   "metadata": {},
   "outputs": [
    {
     "data": {
      "text/plain": [
       "{20: 3392, 30: 4974, 40: 6670, 50: 8319, 60: 9944, 70: 11713}"
      ]
     },
     "execution_count": 19,
     "metadata": {},
     "output_type": "execute_result"
    }
   ],
   "source": [
    "purchases"
   ]
  },
  {
   "cell_type": "code",
   "execution_count": 20,
   "metadata": {},
   "outputs": [
    {
     "data": {
      "text/plain": [
       "45012"
      ]
     },
     "execution_count": 20,
     "metadata": {},
     "output_type": "execute_result"
    }
   ],
   "source": [
    "totalPurchases"
   ]
  },
  {
   "cell_type": "markdown",
   "metadata": {},
   "source": [
    "#### what is the probability of a 30 year old buying something?"
   ]
  }
 ],
 "metadata": {
  "kernelspec": {
   "display_name": "Python 3",
   "language": "python",
   "name": "python3"
  },
  "language_info": {
   "codemirror_mode": {
    "name": "ipython",
    "version": 3
   },
   "file_extension": ".py",
   "mimetype": "text/x-python",
   "name": "python",
   "nbconvert_exporter": "python",
   "pygments_lexer": "ipython3",
   "version": "3.6.5"
  }
 },
 "nbformat": 4,
 "nbformat_minor": 1
}
