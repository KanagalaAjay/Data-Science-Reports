{
 "cells": [
  {
   "cell_type": "code",
   "execution_count": 4,
   "metadata": {
    "collapsed": true,
    "deletable": true,
    "editable": true
   },
   "outputs": [],
   "source": [
    "def numToText(num,join=True):\n",
    "    #Lists of number words\n",
    "\n",
    "        \n",
    "        tens = ['','ten','twenty','thirty','forty','fifty','sixty','seventy','eighty','ninety']\n",
    "        \n",
    "        teens = ['','eleven','twelve','thirteen','fourteen','fifteen','sixteen','seventeen','eighteen','nineteen']\n",
    "        units = ['','one','two','three','four','five','six','seven','eight','nine'] \n",
    "        thousands = ['','thousand','million']\n",
    "        \n",
    "        words = [] #Intialize with empty List for number words\n",
    "        \n",
    "        if num==0: words.append('zero') # handle zero case\n",
    "        \n",
    "        if num < 0: words.append('negative') #handle negative numbers\n",
    "            \n",
    "        num = abs(num)  #convert to absolute\n",
    "        \n",
    "        #numToText\n",
    "        numStr = '%d'%num   #Numbers\n",
    "        numStrLen = len(numStr)    #length\n",
    "        groups = (numStrLen+2)/3      #Split into group of 3 (htu)\n",
    "        numStr = numStr.zfill(groups*3)   #Zfill to remove value of zero ahead \n",
    "        \n",
    "        for i in range(0,groups*3,3):\n",
    "            h,t,u = int(numStr[i]),int(numStr[i+1]),int(numStr[i+2])\n",
    "            g = groups-(i/3+1)\n",
    "            \n",
    "            if h>=1:     #100+ works properly\n",
    "                words.append(units[h])    #200 -> two hundred\n",
    "                words.append('hundred')\n",
    "        \n",
    "            if t>1:          # tens place(20+) \n",
    "                words.append(tens[t])\n",
    "                if u>=1: words.append(units[u])\n",
    "            \n",
    "            elif t==1:       # 11 to 19\n",
    "                if u>=1: words.append(teens[u])\n",
    "                else: words.append(tens[t])    # 03 in tens\n",
    "            \n",
    "            else:        # unit's place 1-9\n",
    "                if u>=1: words.append(units[u])\n",
    "                    \n",
    "            if (g>=1) and ((h+t+u)>0): words.append(thousands[g]+',')\n",
    "        #final joining of parts\n",
    "        if join: return ' '.join(words)\n",
    "        return words "
   ]
  },
  {
   "cell_type": "code",
   "execution_count": 5,
   "metadata": {
    "collapsed": false
   },
   "outputs": [
    {
     "data": {
      "text/plain": [
       "'one hundred fifty'"
      ]
     },
     "execution_count": 5,
     "metadata": {},
     "output_type": "execute_result"
    }
   ],
   "source": [
    "numToText(150)"
   ]
  },
  {
   "cell_type": "code",
   "execution_count": null,
   "metadata": {
    "collapsed": true
   },
   "outputs": [],
   "source": []
  }
 ],
 "metadata": {
  "kernelspec": {
   "display_name": "Python 2",
   "language": "python",
   "name": "python2"
  },
  "language_info": {
   "codemirror_mode": {
    "name": "ipython",
    "version": 2
   },
   "file_extension": ".py",
   "mimetype": "text/x-python",
   "name": "python",
   "nbconvert_exporter": "python",
   "pygments_lexer": "ipython2",
   "version": "2.7.13"
  }
 },
 "nbformat": 4,
 "nbformat_minor": 2
}
